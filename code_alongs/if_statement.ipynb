{
 "cells": [
  {
   "cell_type": "markdown",
   "id": "b3b8fee2",
   "metadata": {},
   "source": [
    "# Lecture 5a - if statment\n",
    "- one way to control the flow of running the script\n",
    "- use if statement for controlling the flow based on conditions"
   ]
  },
  {
   "cell_type": "markdown",
   "id": "e50c2062",
   "metadata": {},
   "source": [
    "##### Example\n",
    "- based on the users input of age, print out a message that is the user should watch a scary movie."
   ]
  },
  {
   "cell_type": "code",
   "execution_count": null,
   "id": "2f602e61",
   "metadata": {},
   "outputs": [],
   "source": [
    "age = int(input(\"Enter your age: \"))"
   ]
  },
  {
   "cell_type": "code",
   "execution_count": null,
   "id": "f214b2d7",
   "metadata": {},
   "outputs": [
    {
     "data": {
      "text/plain": [
       "int"
      ]
     },
     "execution_count": 4,
     "metadata": {},
     "output_type": "execute_result"
    }
   ],
   "source": [
    "# check datatype of age\n",
    "\n",
    "type(age)"
   ]
  },
  {
   "cell_type": "code",
   "execution_count": 6,
   "id": "07e5000a",
   "metadata": {},
   "outputs": [
    {
     "data": {
      "text/plain": [
       "int"
      ]
     },
     "execution_count": 6,
     "metadata": {},
     "output_type": "execute_result"
    }
   ],
   "source": [
    "age_limit = 15\n",
    "\n",
    "type(age_limit)"
   ]
  },
  {
   "cell_type": "code",
   "execution_count": null,
   "id": "78bbb6b3",
   "metadata": {},
   "outputs": [
    {
     "name": "stdout",
     "output_type": "stream",
     "text": [
      "You can wath the movie, enjoy\n"
     ]
    }
   ],
   "source": [
    "# we compare the two variables, age and age_limit\n",
    "\n",
    "if age < age_limit: # between if and \":\" , specify your condition\n",
    "    print(\"Sorry, you are to young to watch the movie\")\n",
    "    print(\"Watch this cartoon instead\")\n",
    "else:\n",
    "    # if the condition is not met run this\n",
    "    print(\"You can wath the movie, enjoy\")"
   ]
  },
  {
   "cell_type": "markdown",
   "id": "60710aff",
   "metadata": {},
   "source": [
    "Example of more than two possible scenarios\n",
    "- use if-elif-else statement\n",
    "- the following example shows how to suggest the dos of medicine depending on the patient´s weight"
   ]
  },
  {
   "cell_type": "code",
   "execution_count": 22,
   "id": "bc2f25bc",
   "metadata": {},
   "outputs": [],
   "source": [
    "weight = float(input(\"What is your weight in kg: \"))\n",
    "\n"
   ]
  },
  {
   "cell_type": "code",
   "execution_count": 23,
   "id": "11e6e932",
   "metadata": {},
   "outputs": [
    {
     "name": "stdout",
     "output_type": "stream",
     "text": [
      "The patient should take 750mg per day\n"
     ]
    }
   ],
   "source": [
    "if weight <= 20:\n",
    "    # python will first check if weight is less than 20\n",
    "    # if yes, run this part of code and stop\n",
    "    print(\"The patient should take 500mg per day\")\n",
    "elif weight <= 40:\n",
    "    # python will check if weigt is less than 40 \n",
    "    # if yes, run this code \n",
    "    print(\"The patient should take 750mg per day\")\n",
    "else:\n",
    "    # if none of above is met the code will code will run\n",
    "    print(\"The patient should take 1000mg per day\")\n",
    "    "
   ]
  }
 ],
 "metadata": {
  "kernelspec": {
   "display_name": "programmering_marcus_andersson_de25",
   "language": "python",
   "name": "python3"
  },
  "language_info": {
   "codemirror_mode": {
    "name": "ipython",
    "version": 3
   },
   "file_extension": ".py",
   "mimetype": "text/x-python",
   "name": "python",
   "nbconvert_exporter": "python",
   "pygments_lexer": "ipython3",
   "version": "3.12.5"
  }
 },
 "nbformat": 4,
 "nbformat_minor": 5
}
