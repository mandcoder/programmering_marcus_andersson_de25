{
  "nbformat": 4,
  "nbformat_minor": 5,
  "metadata": {},
  "cells": [
    {
      "id": "398ba66c",
      "cell_type": "markdown",
      "source": "# Exercise 2 - control structures\n\nIn this exercise, you get to familiarize yourself with the control structures in python, namely\n\n- if-statements\n- for statements\n- while statements\n\nThis exercise covers lectures 05 in the course.\n\n",
      "metadata": {}
    },
    {
      "id": "3bf64817",
      "cell_type": "code",
      "metadata": {},
      "execution_count": null,
      "source": "# YOUR CODE HERE\n",
      "outputs": []
    },
    {
      "id": "11cd421a",
      "cell_type": "markdown",
      "source": "## 0. Check sign (\\*)\n\nAsk the user to input a number and check if this number is **positive**, **negative** or **zero** and print it out.\n\n",
      "metadata": {}
    },
    {
      "id": "21c7ecd9",
      "cell_type": "code",
      "metadata": {},
      "execution_count": null,
      "source": "# YOUR CODE HERE\n",
      "outputs": []
    },
    {
      "id": "e3f616f0",
      "cell_type": "markdown",
      "source": "## 1. Smallest (\\*)\n\nAsk the user to input two numbers and check which one is the smallest and print it out.\n\n---\n\n",
      "metadata": {}
    },
    {
      "id": "70f54042",
      "cell_type": "code",
      "metadata": {},
      "execution_count": null,
      "source": "# YOUR CODE HERE\n",
      "outputs": []
    },
    {
      "id": "ac4c84a3",
      "cell_type": "markdown",
      "source": "## 2. Medicine (\\*)\n\nThe information in the following table is stated in a medicine package. Also it is stated that for children weight is more important than age.\n\n<table >\n<thead>\n    <tr>\n        <th></th>\n        <th>Age</th>\n        <th>Number of pills</th>\n    </tr>\n</thead>\n\n<tbody>\n  <tr>\n    <td>Adults & adolescent <br>over 40 kg</td>\n    <td>over 12 years</td>\n    <td>1-2</td>\n  </tr>\n\n  <tr>\n    <td>Children 26-40 kg</td>\n    <td>7-12 years</td>\n    <td>1/2-1</td>\n  </tr>\n\n  <tr>\n    <td>Children 15-25 kg</td>\n    <td>3-7 years</td>\n    <td>1/2</td>\n  </tr>\n</tbody>\n</table>\n\n",
      "metadata": {}
    },
    {
      "id": "3e2bf93b",
      "cell_type": "code",
      "metadata": {},
      "execution_count": null,
      "source": "# YOUR CODE HERE\n",
      "outputs": []
    },
    {
      "id": "e1804faa",
      "cell_type": "markdown",
      "source": "## 3. Divisible (\\*)\n\nLet the user input a number. Check if the number is\n\n<ol type=\"a\">\n  <li>even or odd</li>\n  <li>is divisible by 5</li>\n  <li>is divisble by 5 and odd</li>\n</ol>\n\n",
      "metadata": {}
    },
    {
      "id": "2e1b7919",
      "cell_type": "code",
      "metadata": {},
      "execution_count": null,
      "source": "# YOUR CODE HERE\n",
      "outputs": []
    },
    {
      "id": "62df2b80",
      "cell_type": "markdown",
      "source": "## 4. Luggage size (\\*)\n\nThe maximum allowed luggage size for boarding an airplane is:\n\n- weight: 8kg\n- dimensions: 55x40x23cm (length x width x height)\n\nLet the user input weight, length, width and height of the luggage. The program should check if the luggage is allowed or not.\n\n",
      "metadata": {}
    },
    {
      "id": "b36f407b",
      "cell_type": "code",
      "metadata": {},
      "execution_count": null,
      "source": "# YOUR CODE HERE\n",
      "outputs": []
    },
    {
      "id": "a5df2609",
      "cell_type": "markdown",
      "source": "## 5. Count numbers (\\*)\n\nUse a **for** statement to count from:\n\na) &nbsp; -10 to 10 with one increment (\\*)\n\nb) &nbsp; -10 to 10 with two increment (\\*)\n\n",
      "metadata": {}
    },
    {
      "id": "89c458df",
      "cell_type": "code",
      "metadata": {},
      "execution_count": null,
      "source": "# YOUR CODE HERE\n",
      "outputs": []
    },
    {
      "id": "aa521a5a",
      "cell_type": "markdown",
      "source": "## 5. Arithmetic sum (\\*)\n\nUse a **while** statement to compute the following sums:\n\na) &nbsp; $\\text{sum} = 1 + 2 + \\ldots + 99+ 100$\n\nb) &nbsp; $\\text{sum} = 1 + 3 + 5 + \\ldots + 97 + 99$\n\nRepeat these using a **for** statement\n\n",
      "metadata": {}
    },
    {
      "id": "5925d1bb",
      "cell_type": "code",
      "metadata": {},
      "execution_count": null,
      "source": "# YOUR CODE HERE\n",
      "outputs": []
    },
    {
      "id": "faf86560",
      "cell_type": "markdown",
      "source": "## 6. Multiplication game (\\*)\n\na) Create a multiplication game following this flow chart:\n\n<img src=\"https://github.com/kokchun/assets/blob/main/python/Multiplication_game.png?raw=true\">\n\n",
      "metadata": {}
    },
    {
      "id": "aabbe41b",
      "cell_type": "code",
      "metadata": {},
      "execution_count": null,
      "source": "# YOUR CODE HERE\n",
      "outputs": []
    },
    {
      "id": "e61add65",
      "cell_type": "markdown",
      "source": "## 7. Multiplication table (\\*)\n\nUse **for** statement(s) to:\n\n&nbsp; a) &nbsp; print out the 6th multiplication table from 0 to 10 (\\*)\n\n&nbsp; b) &nbsp; let the user input the **table**, **start** and **end** of the table. (\\*)\n\n&nbsp; c) &nbsp; print out a full multiplication table from 0 to 10. (\\*\\*)\n\n**Hint:** Use nested for-loops, which means a for-loop in a for-loop. To format the table nicely, use **f-string**:\n\n```python\nprint(f\"{number :4}\", end = \"\")\n```\n\noutput:\n\n```\n   0   0   0   0   0   0   0   0   0   0   0\n   0   1   2   3   4   5   6   7   8   9  10\n   0   2   4   6   8  10  12  14  16  18  20\n   0   3   6   9  12  15  18  21  24  27  30\n   0   4   8  12  16  20  24  28  32  36  40\n   0   5  10  15  20  25  30  35  40  45  50\n   0   6  12  18  24  30  36  42  48  54  60\n   0   7  14  21  28  35  42  49  56  63  70\n   0   8  16  24  32  40  48  56  64  72  80\n   0   9  18  27  36  45  54  63  72  81  90\n   0  10  20  30  40  50  60  70  80  90 100\n```\n\n",
      "metadata": {}
    },
    {
      "id": "9a14dc93",
      "cell_type": "code",
      "metadata": {},
      "execution_count": null,
      "source": "# YOUR CODE HERE\n",
      "outputs": []
    },
    {
      "id": "863c4bcf",
      "cell_type": "markdown",
      "source": "## 8. Rice on chessboard (\\*)\n\nIn first square of the chessboard there is one grain of rice, in the second square there is two grains, in the third square there is four grains and so on. How many grains are there in the whole chessboard when all squares are filled using this pattern?\n\n<img src=\"https://github.com/kokchun/assets/blob/main/python/chessboard.png?raw=true\">\n\n",
      "metadata": {}
    },
    {
      "id": "5cf23872",
      "cell_type": "code",
      "metadata": {},
      "execution_count": null,
      "source": "# YOUR CODE HERE\n",
      "outputs": []
    },
    {
      "id": "b1257a24",
      "cell_type": "markdown",
      "source": "## 9. Check convergence (\\*\\*)\n\nUse a while statement to compute the following sums:\n\na) &nbsp; $\\text{sum} = 1 + \\frac{1}{2} + \\frac{1}{4} + \\frac{1}{8} + \\dots + \\frac{1}{2^n}$\n\nb) &nbsp; $\\text{sum} = 1 - \\frac{1}{3} + \\frac{1}{5} - \\frac{1}{7} + \\dots + \\frac{(-1)^n}{2n+1}$\n\nTry different values on $n$ to see which value it converges to.\n\nRepeat these using a **for** statement\n\n",
      "metadata": {}
    },
    {
      "id": "6d9b3875",
      "cell_type": "code",
      "metadata": {},
      "execution_count": null,
      "source": "# YOUR CODE HERE\n",
      "outputs": []
    },
    {
      "id": "36fec954",
      "cell_type": "markdown",
      "source": "## 10. Theory\n\na) When is it better to use while statement and when is it better to use for statement\n\nb) What is the difference between = and == in Python?\n\nc) Explain how an if-elif-else block works in Python. What happens if multiple conditions are true?\n\nd) What does the continue statement do in a loop? How is it different from break?\n\ne) Explain the meaning of truthy and falsy values and give a few example of both\n\nf) Can you nest control structures in Python (e.g., a loop inside an if)? Give a brief example.\n\ng) Every expression can be part of a statement, but not all statements are expressions. True or false?\n\n",
      "metadata": {}
    },
    {
      "id": "d6ef010f",
      "cell_type": "markdown",
      "source": "## Glossary\n\nFill in this table either by copying this into your own markdown file or copy it into a spreadsheet if you feel that is easier to work with.\n\n| terminology           | explanation |\n| --------------------- | ----------- |\n| control structures    |             |\n| conditional statement |             |\n| if                    |             |\n| elif                  |             |\n| else                  |             |\n| for                   |             |\n| while                 |             |\n| break                 |             |\n| continue              |             |\n| boolean expression    |             |\n| loop                  |             |\n| nested loop           |             |\n| nested if statement   |             |\n| expression            |             |\n| statement             |             |\n| control flow          |             |\n",
      "metadata": {}
    }
  ]
}