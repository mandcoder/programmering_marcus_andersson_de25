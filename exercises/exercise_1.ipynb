{
 "cells": [
  {
   "cell_type": "markdown",
   "id": "bc03f466",
   "metadata": {},
   "source": [
    "# Exercise 1 - Count with Python\n",
    "\n",
    "This notebook contains exercises to practice Python fundamentals. Write your solutions in the provided code cells."
   ]
  },
  {
   "cell_type": "markdown",
   "id": "92b29050",
   "metadata": {},
   "source": [
    "## 0. Pythagorean theorem (*)\n",
    "\n",
    "a) A right angled triangle has the catheti: a = 3 and b = 4 length units. Compute the hypothenuse of the triangle.\n",
    "\n",
    "b) A right angled triangle has hypothenuse c = 7.0 and a cathetus a = 5.0 length units. Compute the other cathetus and round to one decimal."
   ]
  },
  {
   "cell_type": "code",
   "execution_count": null,
   "id": "07f2d2d7",
   "metadata": {},
   "outputs": [],
   "source": [
    "# Your code here"
   ]
  },
  {
   "cell_type": "markdown",
   "id": "89bcff80",
   "metadata": {},
   "source": [
    "## 1. Classification accuracy (*)\n",
    "\n",
    "A machine learning algorithm has been trained to predict whether or not it would rain the next day. Out of 365 predictions, it got 300 correct, compute the accuracy of this model."
   ]
  },
  {
   "cell_type": "code",
   "execution_count": null,
   "id": "fd5f1b2e",
   "metadata": {},
   "outputs": [],
   "source": [
    "# Your code here"
   ]
  },
  {
   "cell_type": "markdown",
   "id": "c31b354d",
   "metadata": {},
   "source": [
    "## 2. Classification accuracy (*)\n",
    "\n",
    "A machine learning model has been trained to detect fire. Here is the result of its predictions:\n",
    "\n",
    "- True Positive (TP): 2\n",
    "- False Positive (FP): 2\n",
    "- False Negative (FN): 11\n",
    "- True Negative (TN): 985\n",
    "\n",
    "Use the formula: \n",
    "\n",
    "$$accuracy = \\frac{TP+TN}{TP+TN+FP+FN}$$\n",
    "\n",
    "Is this a good model? Why? Why not?"
   ]
  },
  {
   "cell_type": "code",
   "execution_count": null,
   "id": "875f67fe",
   "metadata": {},
   "outputs": [],
   "source": [
    "# Your code here"
   ]
  },
  {
   "cell_type": "markdown",
   "id": "12c49100",
   "metadata": {},
   "source": [
    "## 3. File metadata - format print (*)\n",
    "\n",
    "There is a file with the following metadata:\n",
    "- name: orders_data.csv\n",
    "- file size: 3.14mb\n",
    "- modified 2024\n",
    "\n",
    "Create variables for each of them and print out the following to the screen:\n",
    "\n",
    "```\n",
    "=== File metadata ===\n",
    "Filename: sales_data.csv\n",
    "Size (MB): 24.7\n",
    "Last Modified Year: 2023\n",
    "```"
   ]
  },
  {
   "cell_type": "code",
   "execution_count": null,
   "id": "10913855",
   "metadata": {},
   "outputs": [],
   "source": [
    "# Your code here"
   ]
  },
  {
   "cell_type": "markdown",
   "id": "5bd92e39",
   "metadata": {},
   "source": [
    "## 4. Unit converter - inch to cm (*)\n",
    "\n",
    "Screen sizes are defined using inches. Let the user type in a value in inches and output the result in centimeters."
   ]
  },
  {
   "cell_type": "code",
   "execution_count": null,
   "id": "1f945481",
   "metadata": {},
   "outputs": [],
   "source": [
    "# Your code here"
   ]
  },
  {
   "cell_type": "markdown",
   "id": "b718ec76",
   "metadata": {},
   "source": [
    "## 5. Count characters in a text (*)\n",
    "\n",
    "Create a program to let a user input a text, count the number of characters and print it out to the screen. Space can also be counted as a character."
   ]
  },
  {
   "cell_type": "code",
   "execution_count": null,
   "id": "cd5b3732",
   "metadata": {},
   "outputs": [],
   "source": [
    "# Your code here"
   ]
  },
  {
   "cell_type": "markdown",
   "id": "ad414796",
   "metadata": {},
   "source": [
    "## 6. Data types (*)\n",
    "\n",
    "Create variables of type bool, int, float, str and list. Then use `type` function and check each variables type."
   ]
  },
  {
   "cell_type": "code",
   "execution_count": null,
   "id": "403e8432",
   "metadata": {},
   "outputs": [],
   "source": [
    "# Your code here"
   ]
  },
  {
   "cell_type": "markdown",
   "id": "a496ace0",
   "metadata": {},
   "source": [
    "## 7. Theory\n",
    "\n",
    "a) What is the difference between input() and print() in Python?\n",
    "\n",
    "b) What data type does the input() function return by default? How can you use it to get numeric input?\n",
    "\n",
    "c) Explain how formatted string literals (f-strings) improve readability in output statements. Give an example.\n",
    "\n",
    "d) Can a variable change its data type during runtime in Python? Show an example.\n",
    "\n",
    "e) What does it mean that Python is \"dynamically typed\"? How is that different from statically typed languages?"
   ]
  },
  {
   "cell_type": "markdown",
   "id": "f536a769",
   "metadata": {},
   "source": [
    "_Write your answers here_"
   ]
  },
  {
   "cell_type": "markdown",
   "id": "6f29bb07",
   "metadata": {},
   "source": [
    "## Glossary\n",
    "\n",
    "Fill in this table with explanations:\n",
    "\n",
    "| terminology       | explanation |\n",
    "| ----------------- | ----------- |\n",
    "| data type         |             |\n",
    "| variable          |             |\n",
    "| assignment        |             |\n",
    "| dynamically typed |             |\n",
    "| input             |             |\n",
    "| output            |             |\n",
    "| type casting      |             |\n",
    "| boolean           |             |\n",
    "| string            |             |\n",
    "| f-string          |             |\n",
    "| indentation       |             |\n",
    "| convention        |             |"
   ]
  }
 ],
 "metadata": {},
 "nbformat": 4,
 "nbformat_minor": 5
}
