{
  "nbformat": 4,
  "nbformat_minor": 5,
  "metadata": {},
  "cells": [
    {
      "id": "a9c8b88a",
      "cell_type": "markdown",
      "source": "# Exercise 3 - sequences\n\nIn this exercise, you get to familiarize yourself with sequences in Python.\n\n",
      "metadata": {}
    },
    {
      "id": "b91a3af9",
      "cell_type": "code",
      "metadata": {},
      "execution_count": null,
      "source": "# YOUR CODE HERE\n",
      "outputs": []
    },
    {
      "id": "58471ee3",
      "cell_type": "markdown",
      "source": "## 0. Dice rolls (\\*)\n\nSimulate 10 dice rolls and **append** the rolls to a list. Do this once again but now use **list comprehension** instead to create the list.\n\na) sort the list in **ascending** order (\\*)\n\nb) sort the list in **descending** order (\\*)\n\nc) find the **maximum** and **minimum** value in the list (\\*)\n\nd) calculate the **mean** (average) of the list (\\*)\n\ne) find the **median** of the list (\\*)\n\nf) extract only the unique values from the list. The output should be a list (\\*)\n\n",
      "metadata": {}
    },
    {
      "id": "1b5ce3a0",
      "cell_type": "code",
      "metadata": {},
      "execution_count": null,
      "source": "# YOUR CODE HERE\n",
      "outputs": []
    },
    {
      "id": "574faf55",
      "cell_type": "markdown",
      "source": "## 1. Food menu (\\*)\n\nCreate a:\n\na) **list** with the following elements: \"vegetarian lasagna\", \"spaghetti\", \"fish\", \"soup\", \"pancakes\". (\\*)\n\nb) **list** with the weekdays (\\*)\n\nc) create a food menu with each day corresponding to each food item and print it out like this (\\*)\n\n```bash\nDay        Food\n-----------------\nMonday     vegetarian lasagna\nTuesday    spaghetti\nWednesday  fish\nThursday   soup\nFriday     pancakes\n```\n\n",
      "metadata": {}
    },
    {
      "id": "2152d4c6",
      "cell_type": "code",
      "metadata": {},
      "execution_count": null,
      "source": "# YOUR CODE HERE\n",
      "outputs": []
    },
    {
      "id": "11e0713a",
      "cell_type": "markdown",
      "source": "## 2. Squares (\\*)\n\na) Use **list comprehension** to create a list of squares from -10 to 10 (\\*)\n\nb) Plot this list using **matplotlib**. (\\*)\n\n",
      "metadata": {}
    },
    {
      "id": "4e394723",
      "cell_type": "code",
      "metadata": {},
      "execution_count": null,
      "source": "# YOUR CODE HERE\n",
      "outputs": []
    },
    {
      "id": "74e81dad",
      "cell_type": "markdown",
      "source": "## 3. Chessboard (\\*\\*)\n\na) Create this list using **list comprehension**: (\\*)\n\n```python\n['A1', 'B1', 'C1', 'D1', 'E1', 'F1', 'G1', 'H1']\n```\n\nb) Create a 2D list to hold the coordinates in a chessboard like this (\\*\\*)\n\n```\n[[A1, B1, C1, D1, E1, F1, G1, H1],\n [A2, B2, C2, D2, E2, F2, G2, H2],\n [A3, B3, C3, D3, E3, F3, G3, H3],\n [A4, B4, C4, D4, E4, F4, G4, H4],\n [A5, B5, C5, D5, E5, F5, G5, H5],\n [A6, B6, C6, D6, E6, F6, G6, H6],\n [A7, B7, C7, D7, E7, F7, G7, H7],\n [A8, B8, C8, D8, E8, F8, G8 ,H8]]\n```\n\nc) Instead of lists use tuples to hold the coordinates in a chessboard like this (\\*\\*)\n\n```\n((\"A\",1),(\"B\",1),(\"C\",1),(\"D\",1),(\"E\",1),(\"F\",1),(\"G\",1),(\"H\",1)),\n((\"A\",2),(\"B\",2),(\"C\",2),(\"D\",2),(\"E\",2),(\"F\",2),(\"G\",2),(\"H\",2)),\n((\"A\",3),(\"B\",3),(\"C\",3),(\"D\",3),(\"E\",3),(\"F\",3),(\"G\",3),(\"H\",3)),\n((\"A\",4),(\"B\",4),(\"C\",4),(\"D\",4),(\"E\",4),(\"F\",4),(\"G\",4),(\"H\",4)),\n((\"A\",5),(\"B\",5),(\"C\",5),(\"D\",5),(\"E\",5),(\"F\",5),(\"G\",5),(\"H\",5)),\n((\"A\",6),(\"B\",6),(\"C\",6),(\"D\",6),(\"E\",6),(\"F\",6),(\"G\",6),(\"H\",6)),\n((\"A\",7),(\"B\",7),(\"C\",7),(\"D\",7),(\"E\",7),(\"F\",7),(\"G\",7),(\"H\",7)),\n((\"A\",8),(\"B\",8),(\"C\",8),(\"D\",8),(\"E\",8),(\"F\",8),(\"G\",8),(\"H\",8))\n```\n\n",
      "metadata": {}
    },
    {
      "id": "68723a53",
      "cell_type": "code",
      "metadata": {},
      "execution_count": null,
      "source": "# YOUR CODE HERE\n",
      "outputs": []
    },
    {
      "id": "b32ed3db",
      "cell_type": "markdown",
      "source": "## 4. Dice rolls convergence (\\*\\*)\n\nSimulate:\n\na) 100 dice rolls and count the number of outcome six. (\\*)\n\nb) 10, 100, 1000, 10000, 100000, 1000000 dice rolls. Count the number of outcome six in each simulation and store it in a list. Compute the probability of outcome six in each simulation. (\\*\\*)\n\nc) Use matplotlib to plot this list. (\\*)\n\n",
      "metadata": {}
    },
    {
      "id": "a99b4abc",
      "cell_type": "code",
      "metadata": {},
      "execution_count": null,
      "source": "# YOUR CODE HERE\n",
      "outputs": []
    },
    {
      "id": "098ff644",
      "cell_type": "markdown",
      "source": "## 5. Monte Carlo simulation (\\*\\*\\*)\n\na) Simulate 5000 uniformly distributed points between -1 and 1, $X\\sim U(-1,1)$. Now calculate the Euclidean distances between each point and the origin (0,0), $d_i = \\sqrt{x_i^2 + y_i^2}$. For $d_i < 1$ plot the point with one color, and for $d_i > 1$ plot the point in another color, $i = \\{1,\\ldots, 5000\\}$. (\\*\\*)\n\nb) Calculate the fraction between number of inner points and number of outer points. What do you this will converge to when number of points reaches infinity? (\\*\\*)\n\n",
      "metadata": {}
    },
    {
      "id": "54c7af7d",
      "cell_type": "code",
      "metadata": {},
      "execution_count": null,
      "source": "# YOUR CODE HERE\n",
      "outputs": []
    },
    {
      "id": "526e90b4",
      "cell_type": "markdown",
      "source": "## 6. A cute rabbit among two ferocious snakes (\\*\\*\\*)\n\nThere are three identical doors, behind two of them, there are ferocious snakes and behind one of them is a cute little rabbit. Your aim is to pick a door and get the cute rabbit. You start picking one door randomly and suddenly another door opens and snake slithers away _pssss_. Now you have a choice to either stay with your door or change to the remaining door.\n\n<img src=\"https://github.com/kokchun/assets/blob/main/python/snakes_rabbits.png?raw=true\" width = 200>\n\na) What is your choice and why? (\\*\\*)\n\nb) Randomly assign which door has the rabbit, and randomly pick an initial door. Now simulate 10, 100, 1000, 10000, 100000, 1000000 times for staying and for switching doors. Calculate the proportion of finding the rabbits for each set of simulations. Plot the results (\\*\\*)\n\n",
      "metadata": {}
    },
    {
      "id": "c387e168",
      "cell_type": "code",
      "metadata": {},
      "execution_count": null,
      "source": "# YOUR CODE HERE\n",
      "outputs": []
    },
    {
      "id": "013d6871",
      "cell_type": "markdown",
      "source": "## 7. Theory\n\na) What is a sequence in Python? Give examples of sequence types.\n\nb) What is the difference between a list and a tuple?\n\nc) How does indexing work in Python sequences? What happens if you use a negative index?\n\nd) How does Python handle out-of-range indices in slicing vs indexing?\n\ne) Which of the following sequence types are mutable: list, tuple, str, range?\n\nf) What is sequence unpacking? Provide an example.\n\ng) What are some common use cases for enumerate() and zip() when working with sequences?\n\nh) What is the difference between sorted() and .sort() in lists?\n\n",
      "metadata": {}
    },
    {
      "id": "f77a1265",
      "cell_type": "markdown",
      "source": "## Glossary\n\nFill in this table either by copying this into your own markdown file or copy it into a spreadsheet if you feel that is easier to work with.\n\n| terminology     | explanation |\n| --------------- | ----------- |\n| sequence        |             |\n| list            |             |\n| tuple           |             |\n| set             |             |\n| range           |             |\n| indexing        |             |\n| slicing         |             |\n| comprehension   |             |\n| zip             |             |\n| enumermate      |             |\n| unpacking       |             |\n| membership test |             |\n|                 |             |\n",
      "metadata": {}
    }
  ]
}