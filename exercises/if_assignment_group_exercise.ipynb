{
 "cells": [
  {
   "cell_type": "code",
   "execution_count": 20,
   "id": "0ba1dc50",
   "metadata": {},
   "outputs": [
    {
     "name": "stdout",
     "output_type": "stream",
     "text": [
      "10\n"
     ]
    },
    {
     "ename": "ValueError",
     "evalue": "could not convert string to float: ''",
     "output_type": "error",
     "traceback": [
      "\u001b[31m---------------------------------------------------------------------------\u001b[39m",
      "\u001b[31mValueError\u001b[39m                                Traceback (most recent call last)",
      "\u001b[36mCell\u001b[39m\u001b[36m \u001b[39m\u001b[32mIn[20]\u001b[39m\u001b[32m, line 17\u001b[39m\n\u001b[32m     13\u001b[39m \u001b[38;5;28mprint\u001b[39m(student_pensioner)\n\u001b[32m     15\u001b[39m \u001b[38;5;66;03m# ask the user to input the quantity to by\u001b[39;00m\n\u001b[32m---> \u001b[39m\u001b[32m17\u001b[39m amount_of_apple = \u001b[38;5;28;43mfloat\u001b[39;49m\u001b[43m(\u001b[49m\u001b[38;5;28;43minput\u001b[39;49m\u001b[43m(\u001b[49m\u001b[33;43m\"\u001b[39;49m\u001b[33;43mHow many apple do you want to buy? \u001b[39;49m\u001b[33;43m\"\u001b[39;49m\u001b[43m)\u001b[49m\u001b[43m)\u001b[49m\n\u001b[32m     19\u001b[39m total_price = amount_of_apple * apple\n\u001b[32m     21\u001b[39m \u001b[38;5;28;01mif\u001b[39;00m student_pensioner == \u001b[33m\"\u001b[39m\u001b[33mstudent\u001b[39m\u001b[33m\"\u001b[39m:\n",
      "\u001b[31mValueError\u001b[39m: could not convert string to float: ''"
     ]
    }
   ],
   "source": [
    "#set base price to 10kr per apple\n",
    "\n",
    "apple = 10\n",
    "\n",
    "total_price = 0\n",
    "\n",
    "total_price_with_discount = 0\n",
    "\n",
    "# Ask user, if student or pensioner\n",
    "\n",
    "student_pensioner = input(\"Are you student or pensioner? \")\n",
    "\n",
    "print(student_pensioner)\n",
    "\n",
    "# ask the user to input the quantity to by\n",
    "\n",
    "amount_of_apple = float(input(\"How many apple do you want to buy? \"))\n",
    "\n",
    "total_price = amount_of_apple * apple\n",
    "\n",
    "if student_pensioner == \"student\":\n",
    "    total_price_with_discount = total_price * 0.70\n",
    "\n",
    "    print(f\"Your student price is {total_price_with_discount} \")\n",
    "else:\n",
    "    total_price_with_discount = total_price * 0.50\n",
    "    print(f\"Your pension price is {total_price_with_discount}\" )\n"
   ]
  },
  {
   "cell_type": "code",
   "execution_count": null,
   "id": "9627612b",
   "metadata": {},
   "outputs": [],
   "source": []
  }
 ],
 "metadata": {
  "kernelspec": {
   "display_name": "programmering_marcus_andersson_de25",
   "language": "python",
   "name": "python3"
  },
  "language_info": {
   "codemirror_mode": {
    "name": "ipython",
    "version": 3
   },
   "file_extension": ".py",
   "mimetype": "text/x-python",
   "name": "python",
   "nbconvert_exporter": "python",
   "pygments_lexer": "ipython3",
   "version": "3.12.5"
  }
 },
 "nbformat": 4,
 "nbformat_minor": 5
}
