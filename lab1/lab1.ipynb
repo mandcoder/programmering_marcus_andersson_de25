{
 "cells": [
  {
   "cell_type": "markdown",
   "id": "c7bcf6cd",
   "metadata": {},
   "source": [
    "#### Lab 1 - Python fundamentals"
   ]
  },
  {
   "cell_type": "markdown",
   "id": "9dcf36e7",
   "metadata": {},
   "source": [
    "**Purspose**<br>\n",
    "To use to use fundamentals of python to transform raw data to representable format.<br>\n",
    "More specifically, you will perform a step in decoding DNA data.<br> This can be a common topic for a\n",
    "data analyst or data scientist in a medtech company.<br> \n",
    "You do not need prior knowledge about DNA for this lab.\n"
   ]
  },
  {
   "cell_type": "markdown",
   "id": "57712228",
   "metadata": {},
   "source": [
    "First look at the dna_raw.txt"
   ]
  },
  {
   "cell_type": "code",
   "execution_count": null,
   "id": "e9d8105b",
   "metadata": {},
   "outputs": [],
   "source": [
    "# read in the text-file\n",
    "# reference : kokchun video about file handling https://www.youtube.com/watch?v=NY6C8_xCi1w\n",
    "\n",
    "data_path = \"raw_data\" # raw_data is my folder there i store raw-data(not cleaned data)\n",
    "\n",
    "path = f\"{data_path}/dna_raw.txt\"\n",
    "\n",
    "with open(path, \"r\") as file:\n",
    "    dna_raw = file.read()\n",
    "\n",
    "print(dna_raw) # when you print out like this, text will be displayed same as when you  open the file in a text editor"
   ]
  },
  {
   "cell_type": "code",
   "execution_count": 18,
   "id": "a2694151",
   "metadata": {},
   "outputs": [
    {
     "data": {
      "text/plain": [
       "str"
      ]
     },
     "execution_count": 18,
     "metadata": {},
     "output_type": "execute_result"
    }
   ],
   "source": [
    "type(dna_raw) # this show what datatype."
   ]
  },
  {
   "cell_type": "markdown",
   "id": "96bcafcc",
   "metadata": {},
   "source": [
    "Since this is a \"str\" we can apply string methods"
   ]
  },
  {
   "cell_type": "code",
   "execution_count": 19,
   "id": "7a0e0ab6",
   "metadata": {},
   "outputs": [
    {
     "data": {
      "text/plain": [
       "'>seq1\\ncGTAaccaataaaaaaacaagcttaacctaattc\\n>seq2\\nagcttagTTTGGatctggccgggg\\n>seq3\\ngcggatttactcCCCCCAAAAANNaggggagagcccagataaatggagtctgtgcgtccaca\\n>seq4\\ngcggatttactcaggggagagcccagGGataaatggagtctgtgcgtccaca\\n'"
      ]
     },
     "execution_count": 19,
     "metadata": {},
     "output_type": "execute_result"
    }
   ],
   "source": [
    "dna_raw"
   ]
  },
  {
   "cell_type": "markdown",
   "id": "5cb49be5",
   "metadata": {},
   "source": [
    "#### cleaning\n",
    "- inspect txt-file\n",
    "- remove newlines\n",
    "- make string to lowercase\n",
    "- lägg till mer vad jag har gjort"
   ]
  },
  {
   "cell_type": "code",
   "execution_count": null,
   "id": "da0330db",
   "metadata": {},
   "outputs": [],
   "source": [
    "# import regex\n",
    "import re"
   ]
  },
  {
   "cell_type": "code",
   "execution_count": null,
   "id": "7249a71a",
   "metadata": {},
   "outputs": [],
   "source": [
    "with open(path, \"r\") as f_read, open(\"clean_data/raw_data_cleaned.txt\", \"w\") as f_write:\n",
    "    for raw_d in f_read:\n",
    "        raw_d = raw_d.strip(\"\\n\")\n",
    "        raw_d = re.sub(\">seq1\", \"<seg1>\", raw_d)\n",
    "        raw_d = re.sub(\">seq2\", \"<seq2>\", raw_d)\n",
    "        raw_d = re.sub(\">seq3\", \"<seq3>\", raw_d)\n",
    "        raw_d = re.sub(\">seq4\", \"<seq4>\", raw_d)\n",
    "        raw_d = raw_d.lower()\n",
    "        print(raw_d)\n",
    "\n",
    "        f_write.write(f\"{raw_d}\")"
   ]
  },
  {
   "cell_type": "code",
   "execution_count": null,
   "id": "4ee3f811",
   "metadata": {},
   "outputs": [
    {
     "data": {
      "text/plain": [
       "'<seg1>cgtaaccaataaaaaaacaagcttaacctaattc<seq2>agcttagtttggatctggccgggg<seq3>gcggatttactccccccaaaaannaggggagagcccagataaatggagtctgtgcgtccaca<seq4>gcggatttactcaggggagagcccagggataaatggagtctgtgcgtccaca'"
      ]
     },
     "execution_count": 60,
     "metadata": {},
     "output_type": "execute_result"
    }
   ],
   "source": [
    "# source stackoverflow: https://stackoverflow.com/questions/8369219/how-can-i-read-a-text-file-into-a-string-variable-and-strip-newlines\n",
    "\n",
    "raw_data_as_string = open('raw_data/raw_data_cleaned.txt', 'r').read()\n",
    "\n",
    "raw_data_as_string"
   ]
  },
  {
   "cell_type": "code",
   "execution_count": 56,
   "id": "a23d2cb4",
   "metadata": {},
   "outputs": [
    {
     "data": {
      "text/plain": [
       "196"
      ]
     },
     "execution_count": 56,
     "metadata": {},
     "output_type": "execute_result"
    }
   ],
   "source": [
    "len(raw_data_as_string)"
   ]
  },
  {
   "cell_type": "markdown",
   "id": "29060e50",
   "metadata": {},
   "source": [
    "split each sequnce in strings by slicing"
   ]
  },
  {
   "cell_type": "code",
   "execution_count": null,
   "id": "81830a09",
   "metadata": {},
   "outputs": [
    {
     "name": "stdout",
     "output_type": "stream",
     "text": [
      "agcttagtttggatctggccgggg\n"
     ]
    }
   ],
   "source": [
    "sequnce_1 = raw_data_as_string[6:40] \n",
    "sequnce_1\n",
    "\n",
    "sequnce_2 = raw_data_as_string[46:70]\n",
    "sequnce_2\n",
    "\n",
    "sequnce_3 = raw_data_as_string[76:138]\n",
    "sequnce_3\n",
    "\n",
    "sequnce_4 = raw_data_as_string[144:196]\n",
    "sequnce_4\n",
    "\n"
   ]
  },
  {
   "cell_type": "markdown",
   "id": "3c770012",
   "metadata": {},
   "source": [
    "count each dna for every sequnce"
   ]
  },
  {
   "cell_type": "code",
   "execution_count": null,
   "id": "54bba61e",
   "metadata": {},
   "outputs": [
    {
     "data": {
      "text/plain": [
       "{'a', 'c', 'g', 't'}"
      ]
     },
     "execution_count": 62,
     "metadata": {},
     "output_type": "execute_result"
    }
   ],
   "source": [
    "# find out unique values in sequence_1\n",
    "set(sequnce_1)"
   ]
  },
  {
   "cell_type": "code",
   "execution_count": 91,
   "id": "5a02f6be",
   "metadata": {},
   "outputs": [
    {
     "data": {
      "text/plain": [
       "{'g': 2, 't': 7, 'c': 8, 'a': 17}"
      ]
     },
     "execution_count": 91,
     "metadata": {},
     "output_type": "execute_result"
    }
   ],
   "source": [
    "# source: https://www.digitalocean.com/community/tutorials/python-add-to-dictionary#adding-to-a-dictionary-using-the-update-operator\n",
    "# source: https://realpython.com/sort-python-dictionary/ \n",
    "\n",
    "# create counter for each dna group, to count them.\n",
    "a_counter = 0\n",
    "c_counter = 0\n",
    "g_counter = 0\n",
    "t_counter = 0\n",
    "\n",
    "dna_sequnce_1 = {} ## creating an empty dictionary to store dna.\n",
    "\n",
    "## loop through each sequnce and add them to the dictionary\n",
    "for dna in sequnce_1:\n",
    "    if dna == \"a\":\n",
    "        a_counter +=1\n",
    "        dna_sequnce_1[dna] = a_counter\n",
    "    elif dna == \"c\":\n",
    "        c_counter +=1\n",
    "        dna_sequnce_1[dna] = c_counter\n",
    "    elif dna == \"g\":\n",
    "        g_counter +=1\n",
    "        dna_sequnce_1[dna] = g_counter\n",
    "    elif dna == \"t\":\n",
    "        t_counter +=1\n",
    "        dna_sequnce_1[dna] = t_counter\n",
    "\n",
    "\n",
    "# sort the dictionary by value \n",
    "dict(sorted(dna_sequnce_1.items(), key=lambda item: item[1]))\n"
   ]
  },
  {
   "cell_type": "code",
   "execution_count": null,
   "id": "d9f28d61",
   "metadata": {},
   "outputs": [
    {
     "data": {
      "text/plain": [
       "<function matplotlib.pyplot.show(close=None, block=None)>"
      ]
     },
     "execution_count": 94,
     "metadata": {},
     "output_type": "execute_result"
    },
    {
     "data": {
      "image/png": "[encoded data removed]",
      "text/plain": [
       "<Figure size 640x480 with 1 Axes>"
      ]
     },
     "metadata": {},
     "output_type": "display_data"
    }
   ],
   "source": [
    "# source https://www.w3schools.com/python/matplotlib_bars.asp\n",
    "# source https://stackoverflow.com/questions/16010869/plot-a-bar-using-matplotlib-using-a-dictionary\n",
    "# source https://www.w3schools.com/python/matplotlib_labels.asp\n",
    "# source https://www.datacamp.com/tutorial/python-bar-plot\n",
    "\n",
    "import matplotlib.pyplot as plt\n",
    "\n",
    "plt.bar(dna_sequnce_1.keys(), dna_sequnce_1.values())\n",
    "plt.title(\"DNA sequence 1\")\n",
    "plt.ylabel(\"Frequency\")\n",
    "plt.xlabel(\"DNA Letters\")\n",
    "plt.show"
   ]
  }
 ],
 "metadata": {
  "kernelspec": {
   "display_name": "programmering_marcus_andersson_de25",
   "language": "python",
   "name": "python3"
  },
  "language_info": {
   "codemirror_mode": {
    "name": "ipython",
    "version": 3
   },
   "file_extension": ".py",
   "mimetype": "text/x-python",
   "name": "python",
   "nbconvert_exporter": "python",
   "pygments_lexer": "ipython3",
   "version": "3.12.5"
  }
 },
 "nbformat": 4,
 "nbformat_minor": 5
}
