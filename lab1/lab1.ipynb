{
 "cells": [
  {
   "cell_type": "markdown",
   "id": "c7bcf6cd",
   "metadata": {},
   "source": [
    "#### Lab 1 - Python fundamentals"
   ]
  },
  {
   "cell_type": "markdown",
   "id": "9dcf36e7",
   "metadata": {},
   "source": [
    "**Purspose**<br>\n",
    "To use to use fundamentals of python to transform raw data to representable format.<br>\n",
    "More specifically, you will perform a step in decoding DNA data.<br> This can be a common topic for a\n",
    "data analyst or data scientist in a medtech company.<br> \n",
    "You do not need prior knowledge about DNA for this lab.\n"
   ]
  },
  {
   "cell_type": "markdown",
   "id": "9ef0291e",
   "metadata": {},
   "source": [
    "skall presentations delen vara dynamisk, så den är anpassad efter hur många diagram som skall visas. "
   ]
  },
  {
   "cell_type": "markdown",
   "id": "57712228",
   "metadata": {},
   "source": [
    "First look at the dna_raw.txt"
   ]
  },
  {
   "cell_type": "code",
   "execution_count": 65,
   "id": "2ef519a7",
   "metadata": {},
   "outputs": [],
   "source": [
    "from collections import Counter\n",
    "import matplotlib.pyplot as plt"
   ]
  },
  {
   "cell_type": "code",
   "execution_count": 98,
   "id": "28ec296f",
   "metadata": {},
   "outputs": [],
   "source": [
    "\n",
    "def return_dictionary(filename):\n",
    "        \n",
    "\n",
    "    # temporary variable to hold the current sequence ID while reading the file                                                                                                                                                                       \n",
    "    current_seq_id = \"\"\n",
    "    current_seq_data = \"\"\n",
    "\n",
    "    # List to store tuples of (sequence ID, DNA string)\n",
    "    sequence_data = []\n",
    "\n",
    "    # open the file and read all lines into memory\n",
    "    with open(filename, \"r\") as dna_file:\n",
    "        dna_file = dna_file.readlines()\n",
    "\n",
    "        # loop through each line in the file\n",
    "        for line in dna_file:\n",
    "                    \n",
    "                # if the line starts with '>seq', it represents a new sequence header\n",
    "                if line[0:4] == \">seq\":\n",
    "                        if current_seq_id != \"\":   # check if we have a seqeunce in progress, save it before starting a new one                                           \n",
    "                            sequence_data.append((current_seq_id, current_seq_data))\n",
    "                            current_seq_data = \"\"  # reset DNA buffer for the new sequence\n",
    "                        # update current_seq_id with the new line and remove \"\\n\"  \n",
    "                        current_seq_id = line.strip()\n",
    "\n",
    "                # Otherwise the line is a part of the DNA sequence                        \n",
    "                else:\n",
    "                    # Add this line to current_seq_data, and set data to lowercase...furthermore, \"\\n\" is removed  \n",
    "                    current_seq_data += line.strip().lower()\n",
    "    \n",
    "    # after the loop we must check if final sequence is saved.\n",
    "    if current_seq_id != \"\":\n",
    "            sequence_data.append((current_seq_id, current_seq_data))\n",
    "        \n",
    "    \n",
    "    # Dictionary to store frequency counts of each base per sequence\n",
    "    sequence_frequencies = {}\n",
    "\n",
    "    # loop through each sequence and count base occurrences \n",
    "    for seq_id, dna_seqeunce in sequence_data:\n",
    "        base_counts = Counter(dna_seqeunce)  # Count each base (a, c, g, t, n)\n",
    "        sequence_frequencies[seq_id] = dict(base_counts) # Store as dictionary per sequence\n",
    "\n",
    "    # Display the final dictionary containing all sequences and base frequencies\n",
    "    \n",
    "    return sequence_frequencies\n"
   ]
  },
  {
   "cell_type": "markdown",
   "id": "59ac58cb",
   "metadata": {},
   "source": []
  },
  {
   "cell_type": "code",
   "execution_count": 100,
   "id": "a59e7a8d",
   "metadata": {},
   "outputs": [
    {
     "data": {
      "text/plain": [
       "{'>seq1': {'c': 8, 'g': 2, 't': 7, 'a': 17},\n",
       " '>seq2': {'a': 3, 'g': 10, 'c': 4, 't': 7},\n",
       " '>seq3': {'g': 16, 'c': 16, 'a': 18, 't': 10, 'n': 2},\n",
       " '>seq4': {'g': 18, 'c': 11, 'a': 13, 't': 10}}"
      ]
     },
     "execution_count": 100,
     "metadata": {},
     "output_type": "execute_result"
    }
   ],
   "source": [
    "return_dictionary(\"dna_raw.txt\")"
   ]
  },
  {
   "cell_type": "code",
   "execution_count": 101,
   "id": "fb39445c",
   "metadata": {},
   "outputs": [],
   "source": [
    "import numpy as np\n",
    "import math # to be able to use math.ceil i need to import \"math\" "
   ]
  },
  {
   "cell_type": "code",
   "execution_count": 104,
   "id": "7b9b68df",
   "metadata": {},
   "outputs": [
    {
     "data": {
      "text/plain": [
       "5"
      ]
     },
     "execution_count": 104,
     "metadata": {},
     "output_type": "execute_result"
    }
   ],
   "source": [
    "num_seq = len(sequence_frequencies)\n",
    "num_seq"
   ]
  },
  {
   "cell_type": "code",
   "execution_count": 102,
   "id": "33985a9a",
   "metadata": {},
   "outputs": [
    {
     "data": {
      "image/png": "[encoded data removed]",
      "text/plain": [
       "<Figure size 640x480 with 6 Axes>"
      ]
     },
     "metadata": {},
     "output_type": "display_data"
    }
   ],
   "source": [
    "# Calculate how many seqeunces there are in the dictionary. \n",
    "num_seq = len(sequence_frequencies) \n",
    "\n",
    "# Dynamically calculate how many rows and columns are needed for the subplot grid\n",
    "rows = math.ceil(math.sqrt(num_seq)) # Number of rows runded up \n",
    "cols = math.ceil(num_seq / rows)     # Number of columns rounded up\n",
    "\n",
    "# Create the figure and a grid of subplots \n",
    "dna_figure, subplot_axes = plt.subplots(rows, cols) # \"dna_fig\" is the draw area \n",
    "\n",
    "# Flatten the 2D array of axes objects into a 1D list\n",
    "# This makes it easier to loop through and access each subplot\n",
    "subplot_area = subplot_axes.flatten() \n",
    "\n",
    "# define a fixed bilogical order for the DNA bases (x-axis) \n",
    "# Using A,C,G,T as standard order, 'N' added last for unknown bases.\n",
    "base_order = [\"a\",\"c\",\"g\",\"t\",\"n\"]\n",
    "\n",
    "# Loop through each DNA sequence and plot each subplot\n",
    "for i, (seq_name, freq_dict) in enumerate(sequence_frequencies.items()):\n",
    "    \n",
    "    # Select the subplot (axis) that corresponds to the current sequence\n",
    "    seq_plot = subplot_area[i]\n",
    "   \n",
    "    # Create a list for frequences in the same order as \"base_order\".\n",
    "    # if base not exist in the sequence, return 0 for avoid KeyError.\n",
    "    Values = [freq_dict.get(base, 0) for base in base_order]\n",
    "\n",
    "    # Set the title of each seqeunce dynamically\n",
    "    # seq_name[4:0] extracts only the sequence number from the strings like \">seq1\"\n",
    "    seq_plot.set_title(f\"Seqeunce {seq_name[4:]}\", fontsize = 10)\n",
    "    \n",
    "    # Draw a bar chart for the current sequence\n",
    "    seq_plot.bar(base_order, Values)\n",
    "\n",
    "    # Label the x- and y-axes\n",
    "    seq_plot.set_xlabel(\"DNA letter\")\n",
    "    seq_plot.set_ylabel(\"Frequence\")\n",
    "\n",
    "# Adjust spacing between subplots so titles and labels do not ovelap\n",
    "plt.tight_layout()\n",
    "\n",
    "\n"
   ]
  },
  {
   "cell_type": "code",
   "execution_count": null,
   "id": "5a02f6be",
   "metadata": {},
   "outputs": [],
   "source": [
    "# source: https://www.digitalocean.com/community/tutorials/python-add-to-dictionary#adding-to-a-dictionary-using-the-update-operator\n",
    "# source: https://realpython.com/sort-python-dictionary/ \n",
    "\n",
    "\n",
    "\n",
    "\n",
    "# sort the dictionary by value \n",
    "# dict(sorted(dna_sequnce_1.items(), key=lambda item: item[1]))\n"
   ]
  },
  {
   "cell_type": "code",
   "execution_count": null,
   "id": "d9f28d61",
   "metadata": {},
   "outputs": [],
   "source": [
    "# source https://www.w3schools.com/python/matplotlib_bars.asp\n",
    "# source https://stackoverflow.com/questions/16010869/plot-a-bar-using-matplotlib-using-a-dictionary\n",
    "# source https://www.w3schools.com/python/matplotlib_labels.asp\n",
    "# source https://www.datacamp.com/tutorial/python-bar-plot\n",
    "\n",
    "# import matplotlib.pyplot as plt\n",
    "\n",
    "# plt.bar(dna_sequnce_3.keys(), dna_sequnce_3.values())\n",
    "# plt.title(\"DNA sequence 3\")\n",
    "# plt.ylabel(\"Frequency\")\n",
    "# plt.xlabel(\"DNA Letters\")\n",
    "# plt.show"
   ]
  }
 ],
 "metadata": {
  "kernelspec": {
   "display_name": "programmering_marcus_andersson_de25",
   "language": "python",
   "name": "python3"
  },
  "language_info": {
   "codemirror_mode": {
    "name": "ipython",
    "version": 3
   },
   "file_extension": ".py",
   "mimetype": "text/x-python",
   "name": "python",
   "nbconvert_exporter": "python",
   "pygments_lexer": "ipython3",
   "version": "3.12.5"
  }
 },
 "nbformat": 4,
 "nbformat_minor": 5
}
