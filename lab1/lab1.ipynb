{
 "cells": [
  {
   "cell_type": "markdown",
   "id": "c7bcf6cd",
   "metadata": {},
   "source": [
    "#### Lab 1 - Python fundamentals"
   ]
  },
  {
   "cell_type": "markdown",
   "id": "9dcf36e7",
   "metadata": {},
   "source": [
    "**Purspose**<br>\n",
    "To use to use fundamentals of python to transform raw data to representable format.<br>\n",
    "More specifically, you will perform a step in decoding DNA data.<br> This can be a common topic for a\n",
    "data analyst or data scientist in a medtech company.<br> \n",
    "You do not need prior knowledge about DNA for this lab.\n"
   ]
  },
  {
   "cell_type": "markdown",
   "id": "57712228",
   "metadata": {},
   "source": [
    "First look at the dna_raw.txt"
   ]
  },
  {
   "cell_type": "code",
   "execution_count": null,
   "id": "28ec296f",
   "metadata": {},
   "outputs": [
    {
     "data": {
      "text/plain": [
       "[('', '>seq1'),\n",
       " ('', 'cGTAaccaataaaaaaacaagcttaacctaattc'),\n",
       " ('', '>seq2'),\n",
       " ('', 'agcttagTTTGGatctggccgggg'),\n",
       " ('', '>seq3'),\n",
       " ('', 'gcggatttactcCCCCCAAAAANNaggggagagcccagataaatggagtctgtgcgtccaca'),\n",
       " ('', '>seq4'),\n",
       " ('', 'gcggatttactcaggggagagcccagGGataaatggagtctgtgcgtccaca')]"
      ]
     },
     "execution_count": 61,
     "metadata": {},
     "output_type": "execute_result"
    }
   ],
   "source": [
    "container_seq_number = \"\"\n",
    "raw_data_rows = []\n",
    "\n",
    "with open(\"dna_raw.txt\", \"r\") as dna_data:\n",
    "    \n",
    "     dna_data = dna_data.readlines()\n",
    "\n",
    "     for cursor in dna_data:\n",
    "          if cursor[0:3] == \"<seq\":\n",
    "               container_seq_number = cursor.strip()\n",
    "          else:\n",
    "               raw_data_rows.append((container_seq_number, cursor.strip()))\n",
    "\n",
    "raw_data_rows\n",
    "               \n",
    "sequences = {}\n",
    "\n",
    "\n",
    " "
   ]
  },
  {
   "cell_type": "code",
   "execution_count": null,
   "id": "5a02f6be",
   "metadata": {},
   "outputs": [],
   "source": [
    "# source: https://www.digitalocean.com/community/tutorials/python-add-to-dictionary#adding-to-a-dictionary-using-the-update-operator\n",
    "# source: https://realpython.com/sort-python-dictionary/ \n",
    "\n",
    "\n",
    "\n",
    "\n",
    "# sort the dictionary by value \n",
    "# dict(sorted(dna_sequnce_1.items(), key=lambda item: item[1]))\n"
   ]
  },
  {
   "cell_type": "code",
   "execution_count": null,
   "id": "d9f28d61",
   "metadata": {},
   "outputs": [],
   "source": [
    "# source https://www.w3schools.com/python/matplotlib_bars.asp\n",
    "# source https://stackoverflow.com/questions/16010869/plot-a-bar-using-matplotlib-using-a-dictionary\n",
    "# source https://www.w3schools.com/python/matplotlib_labels.asp\n",
    "# source https://www.datacamp.com/tutorial/python-bar-plot\n",
    "\n",
    "import matplotlib.pyplot as plt\n",
    "\n",
    "plt.bar(dna_sequnce_3.keys(), dna_sequnce_3.values())\n",
    "plt.title(\"DNA sequence 3\")\n",
    "plt.ylabel(\"Frequency\")\n",
    "plt.xlabel(\"DNA Letters\")\n",
    "plt.show"
   ]
  }
 ],
 "metadata": {
  "kernelspec": {
   "display_name": "programmering_marcus_andersson_de25",
   "language": "python",
   "name": "python3"
  },
  "language_info": {
   "codemirror_mode": {
    "name": "ipython",
    "version": 3
   },
   "file_extension": ".py",
   "mimetype": "text/x-python",
   "name": "python",
   "nbconvert_exporter": "python",
   "pygments_lexer": "ipython3",
   "version": "3.12.5"
  }
 },
 "nbformat": 4,
 "nbformat_minor": 5
}
