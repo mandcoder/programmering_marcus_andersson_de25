{
 "cells": [
  {
   "cell_type": "markdown",
   "id": "c7bcf6cd",
   "metadata": {},
   "source": [
    "## Lab 1 - Python fundamentals"
   ]
  },
  {
   "cell_type": "markdown",
   "id": "faad3484",
   "metadata": {},
   "source": [
    "Sources used:\n",
    "\n",
    "https://www.youtube.com/watch?v=KuJso02epfM<br>\n",
    "https://www.youtube.com/watch?v=39zXa7lVXK8<br>\n",
    "https://www.youtube.com/watch?v=NY6C8_xCi1w<br>\n",
    "https://www.youtube.com/watch?v=W_kr4kHJ-MI<br>\n",
    "https://www.youtube.com/watch?v=9Ez_sb4wyxc&list=PLpHkXU1Ab_H9zqVwsPYQuKX8ae3WEj8FU<br>\n",
    "https://www.youtube.com/watch?v=7uVVS5WbD4E<br>\n",
    "https://www.w3schools.com/python/matplotlib_bars.asp<br>\n",
    "https://stackoverflow.com/questions/16010869/plot-a-bar-using-matplotlib-using-a-dictionary<br>\n",
    "https://www.w3schools.com/python/matplotlib_labels.asp<br>\n",
    "https://www.datacamp.com/tutorial/python-bar-plot<br>\n",
    "https://stackoverflow.com/questions/16010869/plot-a-bar-using-matplotlib-using-a-dictionary?<br>\n",
    "https://www.digitalocean.com/community/tutorials/python-add-to-dictionary#adding-to-a-dictionary-using-the-update-operator<br>\n",
    "https://realpython.com/sort-python-dictionary/<br>\n",
    "https://stackoverflow.com/questions/64503641/how-to-check-if-a-subplot-is-empty-in-matplotlib<br>\n",
    "https://matplotlib.org/stable/api/ticker_api.html#matplotlib.ticker.MaxNLocator<br>\n",
    "https://www.geeksforgeeks.org/python/counters-in-python-set-1/<br>\n",
    "https://www.geeksforgeeks.org/python/iterate-over-a-dictionary-in-python/<br>\n",
    "https://www.geeksforgeeks.org/python/python-dictionary-comprehension/"
   ]
  },
  {
   "cell_type": "markdown",
   "id": "1e18b5ca",
   "metadata": {},
   "source": [
    "Import needed packages/modules"
   ]
  },
  {
   "cell_type": "code",
   "execution_count": 8,
   "id": "2ef519a7",
   "metadata": {},
   "outputs": [],
   "source": [
    "# Import pyplot module from the matplotlib package for data visualization\n",
    "import matplotlib.pyplot as plt\n",
    "\n",
    "# Import the math module for mathematical functions and constants\n",
    "import math \n",
    "\n",
    "# Import the ticker module to customize tick marks and labels on axes\n",
    "import matplotlib.ticker as ticker"
   ]
  },
  {
   "cell_type": "markdown",
   "id": "3c29da41",
   "metadata": {},
   "source": [
    "Define function for reading and counting DNA sequences"
   ]
  },
  {
   "cell_type": "code",
   "execution_count": 10,
   "id": "28ec296f",
   "metadata": {},
   "outputs": [],
   "source": [
    "# this will be the main container, there counted dna sequences will be stored\n",
    "dna_data = {} \n",
    "\n",
    "def return_dictionary(inputfile):\n",
    "      \n",
    "    \"\"\"Read a DNA file and returns a dictionary containing the frequency of each DNA letter per sequence.\n",
    "    You can use this function with any DNA file. \n",
    "    If no full path is provided, the file must be located in the same directory as the notebook.\"\"\"\n",
    "\n",
    "    # this will be a placeholder and store seqeunce header, ex; \">seq1\"\n",
    "    sequence_id = \"\" \n",
    "    \n",
    "    # temporary dictionary for storing and calculating each dna letter for each sequence\n",
    "    sequence_data = {} \n",
    "\n",
    "    # open file as dna_file\n",
    "    with open(inputfile, \"r\") as dna_file: \n",
    "\n",
    "        # loop trough the file line by line. \n",
    "        for line in dna_file: \n",
    "            \n",
    "            # remove newline \"\\n\"\n",
    "            line = line.strip() \n",
    "\n",
    "            # here we check if its a seqeunce id. \n",
    "            if line[0] == \">\": \n",
    "                    \n",
    "                    # to avoid losing data, we need store current data before we start a new seqeunce.                    \n",
    "                    if sequence_id and sequence_data: \n",
    "                        dna_data[sequence_id] = sequence_data\n",
    "\n",
    "                    # sequence_id will be given a name like \">seq1\"\n",
    "                    sequence_id = line \n",
    "\n",
    "                    # restore this parameter before starting a new sequence\n",
    "                    sequence_data = {} \n",
    "                \n",
    "            # if line is not a seqeunce_id we calculate each dna letter\n",
    "            else:\n",
    "                for letter in line.lower():\n",
    "                    if letter in sequence_data:\n",
    "                             sequence_data[letter] += 1\n",
    "                    else:\n",
    "                        sequence_data[letter] = 1\n",
    "        \n",
    "        # we need to store the last sequence otherwise we will lose data.\n",
    "        if sequence_id and sequence_data:\n",
    "             dna_data[sequence_id] = sequence_data\n",
    "\n",
    "    return dna_data"
   ]
  },
  {
   "cell_type": "code",
   "execution_count": 12,
   "id": "a59e7a8d",
   "metadata": {},
   "outputs": [
    {
     "data": {
      "text/plain": [
       "{'>seq1': {'c': 8, 'g': 2, 't': 7, 'a': 17},\n",
       " '>seq2': {'a': 3, 'g': 10, 'c': 4, 't': 7},\n",
       " '>seq3': {'g': 21, 'c': 34, 'a': 36, 't': 19, 'n': 2},\n",
       " '>seq4': {'g': 20, 'c': 15, 'a': 17, 't': 12}}"
      ]
     },
     "execution_count": 12,
     "metadata": {},
     "output_type": "execute_result"
    }
   ],
   "source": [
    "return_dictionary(\"dna_raw_complicated.txt\")"
   ]
  },
  {
   "cell_type": "markdown",
   "id": "1e657945",
   "metadata": {},
   "source": [
    "### Visualization of DNA Sequences\n",
    "\n",
    "The purpose of bellow code block is to visualize the frequency of DNA bases for each sequence in the dataset.<br>\n",
    "Each sequence is displayed as an individual bar chart, arranged in a dynamically generated grid layout.<br>\n",
    "\n",
    "By showing all sequences side by side, it becomes easier to compare base composition patterns and variations between them.<br>\n",
    "The base order (A, C, G, T, N) is kept consistent across all plots for clarity, <br> and the layout is adjusted to prevent overlapping titles and labels.<br>\n",
    "This approach provides a clear overview of how different DNA sequences differ in their nucleotide composition."
   ]
  },
  {
   "cell_type": "code",
   "execution_count": null,
   "id": "33985a9a",
   "metadata": {},
   "outputs": [
    {
     "data": {
      "image/png": "[encoded data removed]",
      "text/plain": [
       "<Figure size 640x480 with 4 Axes>"
      ]
     },
     "metadata": {},
     "output_type": "display_data"
    }
   ],
   "source": [
    "# Calculate how many seqeunces there are in the dictionary. \n",
    "num_seq = len(dna_data) \n",
    "\n",
    "# Dynamically calculate how many rows and columns are needed for the subplot grid\n",
    "rows = math.ceil(num_seq / 3) # Number of rows runded up \n",
    "cols = math.ceil(num_seq / rows)     # Number of columns rounded up\n",
    "\n",
    "# Create the figure and a grid of subplots \n",
    "dna_figure, subplot_axes = plt.subplots(rows, cols) # \"dna_fig\" is the draw area \n",
    "\n",
    "# Flatten the 2D array of axes objects into a 1D list\n",
    "# This makes it easier to loop through and access each subplot\n",
    "subplot_area = subplot_axes.flatten() \n",
    "\n",
    "# define a fixed bilogical order for the DNA bases (x-axis) \n",
    "# Using A,C,G,T as standard order, 'N' added last for unknown bases.\n",
    "base_order = [\"a\",\"c\",\"g\",\"t\",\"n\"]\n",
    "\n",
    "# Loop through each DNA sequence and plot each subplot\n",
    "for i, (seq_name, freq_dict) in enumerate(dna_data.items()):\n",
    "    \n",
    "    # Select the subplot (axis) that corresponds to the current sequence\n",
    "    seq_plot = subplot_area[i]\n",
    "   \n",
    "    # Create a list for frequences in the same order as \"base_order\".\n",
    "    # if base not exist in the sequence, return 0 for avoid KeyError.\n",
    "    Values = [freq_dict.get(base, 0) for base in base_order]\n",
    "\n",
    "    # Set the title of each seqeunce dynamically\n",
    "    # seq_name[4:0] extracts only the sequence number from the strings like \">seq1\"\n",
    "    seq_plot.set_title(f\"Seqeunce {seq_name[4:]}\", fontsize = 10)\n",
    "    \n",
    "    # Draw a bar chart for the current sequence\n",
    "    seq_plot.bar(base_order, Values)\n",
    "\n",
    "    # Label the x- and y-axes\n",
    "    seq_plot.set_xlabel(\"DNA letter\")\n",
    "    seq_plot.set_ylabel(\"Frequence\")\n",
    "\n",
    "# loop through each subplot and hide if there are any with no data. \n",
    "for sub_p in subplot_area: \n",
    "     if not sub_p.lines and not sub_p.patches: \n",
    "            sub_p.set_visible(False)\n",
    "\n",
    "# this forces matplotlib use integer on y-axis\n",
    "for sub_p in subplot_area:\n",
    "     sub_p.yaxis.set_major_locator(ticker.MaxNLocator(integer=True))   \n",
    "\n",
    "# Adjust spacing between subplots so titles and labels do not ovelap\n",
    "plt.tight_layout()"
   ]
  }
 ],
 "metadata": {
  "kernelspec": {
   "display_name": "programmering_marcus_andersson_de25",
   "language": "python",
   "name": "python3"
  },
  "language_info": {
   "codemirror_mode": {
    "name": "ipython",
    "version": 3
   },
   "file_extension": ".py",
   "mimetype": "text/x-python",
   "name": "python",
   "nbconvert_exporter": "python",
   "pygments_lexer": "ipython3",
   "version": "3.12.5"
  }
 },
 "nbformat": 4,
 "nbformat_minor": 5
}
