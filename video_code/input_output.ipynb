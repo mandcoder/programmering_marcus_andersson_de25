{
 "cells": [
  {
   "cell_type": "markdown",
   "metadata": {},
   "source": [
    "# Lecture notes - input and output\n",
    "\n",
    "<div style=\"max-width:66ch;\">\n",
    "\n",
    "This is the lecture note for **input**, **output** and **variables**. You will learn: \n",
    "- comments\n",
    "- how to use print\n",
    "- how to create variables\n",
    "- how to prompt user for input \n",
    "- basic f-strings\n",
    "\n",
    "Since this is the first lecture you should know that Python can be written in: \n",
    "- Python interactive shell\n",
    "- a Python script file (.py)\n",
    "- a Jupyter Notebook file (.ipynb)\n",
    "\n",
    "In this course we will work extensively in jupyter notebooks, but will move towards python scripts further in the next courses. Jupyter notebooks are great for interactive learning, explorations and testing out things, but when creating real applications for production you need to master python scripts. A common workflow is then to test out smaller chunks of codes and concepts in notebooks and then moving working code into python scripts. \n",
    "\n",
    "---\n",
    "\n",
    "</div>"
   ]
  },
  {
   "cell_type": "markdown",
   "metadata": {},
   "source": [
    "## Print statement"
   ]
  },
  {
   "cell_type": "code",
   "execution_count": 2,
   "metadata": {},
   "outputs": [
    {
     "name": "stdout",
     "output_type": "stream",
     "text": [
      "test world!\n",
      "My name is Kokchun\n"
     ]
    }
   ],
   "source": [
    "# this is a comment starting with hashtag. Comments are ignored by Python interpretor\n",
    "print(\"test world!\") # prints Hello world!\n",
    "print('My name is Kokchun') # notice that you can write strings with '' as well as with \"\""
   ]
  },
  {
   "cell_type": "markdown",
   "metadata": {},
   "source": [
    "<div style=\"max-width:66ch;\">\n",
    "\n",
    "---\n",
    "## Variables \n",
    "With variables you store data in a container. You create variable and assigns a value to it. The data type is inferred by the interpretor. Important when creating variable name is to use describing names, so that it is easy to understand your code.\n",
    "\n",
    "<img src=\"https://github.com/kokchun/assets/blob/main/python/variables.png?raw=true\" width=100%>\n",
    "\n",
    "\n",
    "</div>"
   ]
  },
  {
   "cell_type": "code",
   "execution_count": 7,
   "metadata": {},
   "outputs": [
    {
     "name": "stdout",
     "output_type": "stream",
     "text": [
      "My name is Kokchun Giang\n",
      "My age is 34\n",
      "More specifically, I am 34.5 years old\n"
     ]
    }
   ],
   "source": [
    "firstname = \"Kokchun\" # firstname is assigned with the value \"Kokchun\"\n",
    "lastname = \"Giang\" \n",
    "age = 34 \n",
    "\n",
    "# this is an f-string, which allows you to incorporate variable into the strings\n",
    "print(f\"My name is {firstname} {lastname}\")\n",
    "print(f\"My age is {age}\")\n",
    "\n",
    "# reassign another value to an existing variable\n",
    "age = 34.5\n",
    "print(f\"More specifically, I am {age} years old\")"
   ]
  },
  {
   "cell_type": "markdown",
   "metadata": {},
   "source": [
    "## Input from user\n"
   ]
  },
  {
   "cell_type": "code",
   "execution_count": null,
   "metadata": {},
   "outputs": [
    {
     "name": "stdout",
     "output_type": "stream",
     "text": [
      "kokchun is 34 years old\n"
     ]
    }
   ],
   "source": [
    "name = input(\"What is your name? \") # Gore\n",
    "age = input(f\"How old are you {name}? \") # 42\n",
    "print(f\"{name} is {age} years old\")"
   ]
  },
  {
   "cell_type": "markdown",
   "metadata": {},
   "source": [
    "<div style=\"max-width:66ch;\">\n",
    "\n",
    "---\n",
    "## Type coercions\n",
    "\n",
    "Sometimes you need to convert data types from one type to another. For example when prompting users for a number using ```input()```, you need to convert it to either an **int** or a **float** to be able to do calculations with it. Note that it has to be numeric in order for it to work, e.g. ```int(\"five\")``` will generate a ValueError.\n",
    "\n",
    "</div>"
   ]
  },
  {
   "cell_type": "markdown",
   "metadata": {},
   "source": [
    "### Force"
   ]
  },
  {
   "cell_type": "code",
   "execution_count": 9,
   "metadata": {},
   "outputs": [
    {
     "name": "stdout",
     "output_type": "stream",
     "text": [
      "Your force is 638.3000000000001N\n",
      "Your force is 638.3N\n"
     ]
    }
   ],
   "source": [
    "gravity = 9.82\n",
    "# converts the string from input() to float\n",
    "mass = float(input(\"Enter your weight in kg? \")) # try to skip the conversion and see what happens\n",
    "force = mass*gravity\n",
    "\n",
    "# entered 65, note the output has floating point precision error\n",
    "print(f\"Your force is {force}N\") \n",
    "\n",
    "# you can use f-string to format the output to 1 decimal\n",
    "print(f\"Your force is {force:.1f}N\")"
   ]
  },
  {
   "cell_type": "code",
   "execution_count": null,
   "metadata": {},
   "outputs": [],
   "source": [
    "gravity "
   ]
  },
  {
   "cell_type": "markdown",
   "metadata": {},
   "source": [
    "<div style=\"max-width:66ch;\">\n",
    "\n",
    "### Circle geometry\n",
    "\n",
    "$\n",
    "A_{circle} = \\pi r^2\n",
    "$\n",
    "<br>\n",
    "$\n",
    "O_{circle} = 2\\pi r\n",
    "$\n",
    "\n",
    "\n",
    "</div>"
   ]
  },
  {
   "cell_type": "code",
   "execution_count": 10,
   "metadata": {},
   "outputs": [
    {
     "name": "stdout",
     "output_type": "stream",
     "text": [
      "Circle with radius 5.0 has \n",
      " area: 78.54 a.u. \n",
      " circumference: 31.42 l.u.\n"
     ]
    }
   ],
   "source": [
    "import math  # math module has many constants and functions for mathematics\n",
    "\n",
    "radius = float(input(\"Enter a radius: \"))\n",
    "area = math.pi * radius**2  # ** is the power operator\n",
    "circumference = 2 * math.pi * radius\n",
    "\n",
    "# \\n gives newlines in prints\n",
    "print(\n",
    "    f\"Circle with radius {radius} has \\n area: {area:.2f} a.u. \\n circumference: {circumference:.2f} l.u.\"\n",
    ")"
   ]
  },
  {
   "cell_type": "markdown",
   "metadata": {},
   "source": [
    "## More on data types"
   ]
  },
  {
   "cell_type": "code",
   "execution_count": 13,
   "metadata": {},
   "outputs": [
    {
     "name": "stdout",
     "output_type": "stream",
     "text": [
      "radius = 7\n",
      "geometry = 'circle'\n",
      "is_unit_circle = False\n",
      "screen_inches = 6.4\n"
     ]
    },
    {
     "data": {
      "text/plain": [
       "(int, str, bool, float)"
      ]
     },
     "execution_count": 13,
     "metadata": {},
     "output_type": "execute_result"
    }
   ],
   "source": [
    "# overwriting previous value of radius\n",
    "radius = 7\n",
    "geometry = \"circle\"\n",
    "is_unit_circle = False\n",
    "screen_inches = 6.4\n",
    "\n",
    "# self-documenting expressions with = operator in f-string\n",
    "print(f\"{radius = }\")\n",
    "print(f\"{geometry = }\")\n",
    "print(f\"{is_unit_circle = }\")\n",
    "print(f\"{screen_inches = }\")\n",
    "\n",
    "# last expression is written out in jupyter notebook \n",
    "type(radius), type(geometry), type(is_unit_circle), type(screen_inches)"
   ]
  },
  {
   "cell_type": "markdown",
   "metadata": {},
   "source": [
    "<div style=\"background-color: #FFF; color: #212121; border-radius: 1px; width:22ch; box-shadow: rgba(0, 0, 0, 0.16) 0px 1px 4px; display: flex; justify-content: center; align-items: center;\">\n",
    "<div style=\"padding: 1.5em 0; width: 70%;\">\n",
    "    <h2 style=\"font-size: 1.2rem;\">Kokchun Giang</h2>\n",
    "    <a href=\"https://www.linkedin.com/in/kokchungiang/\" target=\"_blank\" style=\"display: flex; align-items: center; gap: .4em; color:#0A66C2;\">\n",
    "        <img src=\"https://content.linkedin.com/content/dam/me/business/en-us/amp/brand-site/v2/bg/LI-Bug.svg.original.svg\" width=\"20\"> \n",
    "        LinkedIn profile\n",
    "    </a>\n",
    "    <a href=\"https://github.com/kokchun/Portfolio-Kokchun-Giang\" target=\"_blank\" style=\"display: flex; align-items: center; gap: .4em; margin: 1em 0; color:#0A66C2;\">\n",
    "        <img src=\"https://github.githubassets.com/images/modules/logos_page/GitHub-Mark.png\" width=\"20\"> \n",
    "        Github portfolio\n",
    "    </a>\n",
    "    <span>AIgineer AB</span>\n",
    "<div>\n",
    "</div>\n"
   ]
  }
 ],
 "metadata": {
  "kernelspec": {
   "display_name": "3.12.5",
   "language": "python",
   "name": "python3"
  },
  "language_info": {
   "codemirror_mode": {
    "name": "ipython",
    "version": 3
   },
   "file_extension": ".py",
   "mimetype": "text/x-python",
   "name": "python",
   "nbconvert_exporter": "python",
   "pygments_lexer": "ipython3",
   "version": "3.12.5"
  },
  "orig_nbformat": 4
 },
 "nbformat": 4,
 "nbformat_minor": 2
}
